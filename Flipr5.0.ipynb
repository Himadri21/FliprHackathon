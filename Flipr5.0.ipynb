{
 "cells": [
  {
   "cell_type": "markdown",
   "metadata": {},
   "source": [
    "# The Stock Market\n",
    "## Flipr Hackathon 5.0\n",
    "\n",
    "### Task 1"
   ]
  },
  {
   "cell_type": "code",
   "execution_count": 1,
   "metadata": {},
   "outputs": [],
   "source": [
    "import numpy as np\n",
    "import pandas as pd\n",
    "import sklearn\n",
    "import sklearn.preprocessing\n",
    "import matplotlib.pyplot as plt"
   ]
  },
  {
   "cell_type": "code",
   "execution_count": 2,
   "metadata": {},
   "outputs": [
    {
     "data": {
      "text/html": [
       "<div>\n",
       "<style scoped>\n",
       "    .dataframe tbody tr th:only-of-type {\n",
       "        vertical-align: middle;\n",
       "    }\n",
       "\n",
       "    .dataframe tbody tr th {\n",
       "        vertical-align: top;\n",
       "    }\n",
       "\n",
       "    .dataframe thead th {\n",
       "        text-align: right;\n",
       "    }\n",
       "</style>\n",
       "<table border=\"1\" class=\"dataframe\">\n",
       "  <thead>\n",
       "    <tr style=\"text-align: right;\">\n",
       "      <th></th>\n",
       "      <th>Stock Index</th>\n",
       "      <th>Index</th>\n",
       "      <th>Industry</th>\n",
       "      <th>VWAP</th>\n",
       "      <th>General Index</th>\n",
       "      <th>NAV</th>\n",
       "      <th>P/E Ratio</th>\n",
       "      <th>Volumes Traded</th>\n",
       "      <th>Inventory Turnover</th>\n",
       "      <th>Covid Impact (Beta)</th>\n",
       "      <th>Tracking Error</th>\n",
       "      <th>Dollar Exchange Rate</th>\n",
       "      <th>Put-Call Ratio</th>\n",
       "      <th>P/B Ratio</th>\n",
       "    </tr>\n",
       "  </thead>\n",
       "  <tbody>\n",
       "    <tr>\n",
       "      <th>0</th>\n",
       "      <td>AC3235</td>\n",
       "      <td>NSE</td>\n",
       "      <td>Materials</td>\n",
       "      <td>53.30</td>\n",
       "      <td>11270.15</td>\n",
       "      <td>44.59</td>\n",
       "      <td>185.09</td>\n",
       "      <td>12067855.0</td>\n",
       "      <td>2.78</td>\n",
       "      <td>0.03</td>\n",
       "      <td>0.0330</td>\n",
       "      <td>74.9</td>\n",
       "      <td>0.80</td>\n",
       "      <td>4.66</td>\n",
       "    </tr>\n",
       "    <tr>\n",
       "      <th>1</th>\n",
       "      <td>AC3236</td>\n",
       "      <td>JSE</td>\n",
       "      <td>Energy</td>\n",
       "      <td>749.34</td>\n",
       "      <td>55722.00</td>\n",
       "      <td>74.20</td>\n",
       "      <td>34.01</td>\n",
       "      <td>6172474.0</td>\n",
       "      <td>6.78</td>\n",
       "      <td>0.11</td>\n",
       "      <td>0.0464</td>\n",
       "      <td>17.7</td>\n",
       "      <td>0.86</td>\n",
       "      <td>6.11</td>\n",
       "    </tr>\n",
       "    <tr>\n",
       "      <th>2</th>\n",
       "      <td>AC3237</td>\n",
       "      <td>S&amp;P 500</td>\n",
       "      <td>Information Tech</td>\n",
       "      <td>567.75</td>\n",
       "      <td>3351.28</td>\n",
       "      <td>88.41</td>\n",
       "      <td>177.40</td>\n",
       "      <td>17472488.0</td>\n",
       "      <td>4.36</td>\n",
       "      <td>0.23</td>\n",
       "      <td>0.0401</td>\n",
       "      <td>1.0</td>\n",
       "      <td>0.93</td>\n",
       "      <td>4.99</td>\n",
       "    </tr>\n",
       "    <tr>\n",
       "      <th>3</th>\n",
       "      <td>AC3238</td>\n",
       "      <td>NSE</td>\n",
       "      <td>Healthcare</td>\n",
       "      <td>646.78</td>\n",
       "      <td>11270.15</td>\n",
       "      <td>79.36</td>\n",
       "      <td>105.44</td>\n",
       "      <td>15553159.0</td>\n",
       "      <td>2.77</td>\n",
       "      <td>0.78</td>\n",
       "      <td>0.0187</td>\n",
       "      <td>74.9</td>\n",
       "      <td>1.09</td>\n",
       "      <td>1.26</td>\n",
       "    </tr>\n",
       "    <tr>\n",
       "      <th>4</th>\n",
       "      <td>AC3239</td>\n",
       "      <td>NYSE</td>\n",
       "      <td>Materials</td>\n",
       "      <td>380.33</td>\n",
       "      <td>12765.84</td>\n",
       "      <td>19.90</td>\n",
       "      <td>139.40</td>\n",
       "      <td>12525784.0</td>\n",
       "      <td>5.93</td>\n",
       "      <td>0.03</td>\n",
       "      <td>0.0261</td>\n",
       "      <td>1.0</td>\n",
       "      <td>NaN</td>\n",
       "      <td>6.18</td>\n",
       "    </tr>\n",
       "  </tbody>\n",
       "</table>\n",
       "</div>"
      ],
      "text/plain": [
       "  Stock Index    Index          Industry    VWAP  General Index    NAV  \\\n",
       "0      AC3235      NSE         Materials   53.30       11270.15  44.59   \n",
       "1      AC3236      JSE            Energy  749.34       55722.00  74.20   \n",
       "2      AC3237  S&P 500  Information Tech  567.75        3351.28  88.41   \n",
       "3      AC3238      NSE        Healthcare  646.78       11270.15  79.36   \n",
       "4      AC3239     NYSE         Materials  380.33       12765.84  19.90   \n",
       "\n",
       "   P/E Ratio  Volumes Traded  Inventory Turnover  Covid Impact (Beta)  \\\n",
       "0     185.09      12067855.0                2.78                 0.03   \n",
       "1      34.01       6172474.0                6.78                 0.11   \n",
       "2     177.40      17472488.0                4.36                 0.23   \n",
       "3     105.44      15553159.0                2.77                 0.78   \n",
       "4     139.40      12525784.0                5.93                 0.03   \n",
       "\n",
       "   Tracking Error  Dollar Exchange Rate  Put-Call Ratio  P/B Ratio  \n",
       "0          0.0330                  74.9            0.80       4.66  \n",
       "1          0.0464                  17.7            0.86       6.11  \n",
       "2          0.0401                   1.0            0.93       4.99  \n",
       "3          0.0187                  74.9            1.09       1.26  \n",
       "4          0.0261                   1.0             NaN       6.18  "
      ]
     },
     "execution_count": 2,
     "metadata": {},
     "output_type": "execute_result"
    }
   ],
   "source": [
    "df=pd.read_excel('Train_dataset.xlsx')\n",
    "df_test=pd.read_excel('Test_dataset.xlsx')\n",
    "df_copy=df.copy()\n",
    "df_test.head()"
   ]
  },
  {
   "cell_type": "code",
   "execution_count": 3,
   "metadata": {},
   "outputs": [
    {
     "data": {
      "text/plain": [
       "(7383, 15)"
      ]
     },
     "execution_count": 3,
     "metadata": {},
     "output_type": "execute_result"
    }
   ],
   "source": [
    "df.shape"
   ]
  },
  {
   "cell_type": "code",
   "execution_count": 4,
   "metadata": {},
   "outputs": [
    {
     "name": "stdout",
     "output_type": "stream",
     "text": [
      "Stock Index - 7383 \n",
      "\n",
      "Index - 5 \n",
      "\n",
      "Industry - 5 \n",
      "\n",
      "VWAP - 7068 \n",
      "\n",
      "General Index - 6 \n",
      "\n",
      "NAV - 5001 \n",
      "\n",
      "P/E Ratio - 5951 \n",
      "\n",
      "Volumes Traded - 7114 \n",
      "\n",
      "Inventory Turnover - 579 \n",
      "\n",
      "Covid Impact (Beta) - 6 \n",
      "\n",
      "Tracking Error - 466 \n",
      "\n",
      "Dollar Exchange Rate - 4 \n",
      "\n",
      "Put-Call Ratio - 71 \n",
      "\n",
      "P/B Ratio - 913 \n",
      "\n",
      "Stock Price - 7383 \n",
      "\n"
     ]
    }
   ],
   "source": [
    "for col in df.columns.unique():\n",
    "    print(col,'-',df[col].unique().size,'\\n')"
   ]
  },
  {
   "cell_type": "code",
   "execution_count": 5,
   "metadata": {},
   "outputs": [
    {
     "data": {
      "text/plain": [
       "Stock Index             False\n",
       "Index                   False\n",
       "Industry                False\n",
       "VWAP                     True\n",
       "General Index            True\n",
       "NAV                      True\n",
       "P/E Ratio                True\n",
       "Volumes Traded           True\n",
       "Inventory Turnover       True\n",
       "Covid Impact (Beta)      True\n",
       "Tracking Error           True\n",
       "Dollar Exchange Rate     True\n",
       "Put-Call Ratio           True\n",
       "P/B Ratio                True\n",
       "Stock Price             False\n",
       "dtype: bool"
      ]
     },
     "execution_count": 5,
     "metadata": {},
     "output_type": "execute_result"
    }
   ],
   "source": [
    "df.isna().any()"
   ]
  },
  {
   "cell_type": "code",
   "execution_count": 6,
   "metadata": {},
   "outputs": [
    {
     "name": "stdout",
     "output_type": "stream",
     "text": [
      "<class 'pandas.core.frame.DataFrame'>\n",
      "RangeIndex: 7383 entries, 0 to 7382\n",
      "Data columns (total 15 columns):\n",
      " #   Column                Non-Null Count  Dtype  \n",
      "---  ------                --------------  -----  \n",
      " 0   Stock Index           7383 non-null   object \n",
      " 1   Index                 7383 non-null   object \n",
      " 2   Industry              7383 non-null   object \n",
      " 3   VWAP                  7345 non-null   float64\n",
      " 4   General Index         7321 non-null   float64\n",
      " 5   NAV                   7322 non-null   float64\n",
      " 6   P/E Ratio             7149 non-null   float64\n",
      " 7   Volumes Traded        7115 non-null   float64\n",
      " 8   Inventory Turnover    6984 non-null   float64\n",
      " 9   Covid Impact (Beta)   7007 non-null   float64\n",
      " 10  Tracking Error        7312 non-null   float64\n",
      " 11  Dollar Exchange Rate  7306 non-null   float64\n",
      " 12  Put-Call Ratio        7298 non-null   float64\n",
      " 13  P/B Ratio             7358 non-null   float64\n",
      " 14  Stock Price           7383 non-null   float64\n",
      "dtypes: float64(12), object(3)\n",
      "memory usage: 865.3+ KB\n"
     ]
    }
   ],
   "source": [
    "df.info()"
   ]
  },
  {
   "cell_type": "code",
   "execution_count": 7,
   "metadata": {},
   "outputs": [
    {
     "data": {
      "text/plain": [
       "Stock Index               0\n",
       "Index                     0\n",
       "Industry                  0\n",
       "VWAP                     38\n",
       "General Index            62\n",
       "NAV                      61\n",
       "P/E Ratio               234\n",
       "Volumes Traded          268\n",
       "Inventory Turnover      399\n",
       "Covid Impact (Beta)     376\n",
       "Tracking Error           71\n",
       "Dollar Exchange Rate     77\n",
       "Put-Call Ratio           85\n",
       "P/B Ratio                25\n",
       "Stock Price               0\n",
       "dtype: int64"
      ]
     },
     "execution_count": 7,
     "metadata": {},
     "output_type": "execute_result"
    }
   ],
   "source": [
    "df.isnull().sum()"
   ]
  },
  {
   "cell_type": "code",
   "execution_count": 8,
   "metadata": {},
   "outputs": [
    {
     "data": {
      "text/plain": [
       "array([12765.84, 38182.08,  3351.28, 11270.15, 55722.  ,      nan])"
      ]
     },
     "execution_count": 8,
     "metadata": {},
     "output_type": "execute_result"
    }
   ],
   "source": [
    "df['General Index'].unique()"
   ]
  },
  {
   "cell_type": "code",
   "execution_count": 9,
   "metadata": {},
   "outputs": [
    {
     "data": {
      "text/plain": [
       "11270.15    1485\n",
       "55722.00    1464\n",
       "3351.28     1461\n",
       "12765.84    1458\n",
       "38182.08    1453\n",
       "Name: General Index, dtype: int64"
      ]
     },
     "execution_count": 9,
     "metadata": {},
     "output_type": "execute_result"
    }
   ],
   "source": [
    "df['General Index'].value_counts()"
   ]
  },
  {
   "cell_type": "code",
   "execution_count": 10,
   "metadata": {},
   "outputs": [],
   "source": [
    "df['VWAP'].fillna((df['VWAP'].mean()), inplace=True)\n",
    "df['NAV'].fillna((df['NAV'].mean()), inplace=True)\n",
    "df['P/E Ratio'].fillna((df['P/E Ratio'].mean()), inplace=True)\n",
    "df['Volumes Traded'].fillna((df['Volumes Traded'].mean()), inplace=True)\n",
    "df['Inventory Turnover'].fillna((df['Inventory Turnover'].mean()), inplace=True)\n",
    "df['Tracking Error'].fillna((df['Tracking Error'].mean()), inplace=True)\n",
    "df['Put-Call Ratio'].fillna((df['Put-Call Ratio'].mean()), inplace=True)\n",
    "df['P/B Ratio'].fillna((df['P/B Ratio'].mean()), inplace=True)\n",
    "\n",
    "df_test['VWAP'].fillna((df_test['VWAP'].mean()), inplace=True)\n",
    "df_test['NAV'].fillna((df_test['NAV'].mean()), inplace=True)\n",
    "df_test['P/E Ratio'].fillna((df_test['P/E Ratio'].mean()), inplace=True)\n",
    "df_test['Volumes Traded'].fillna((df_test['Volumes Traded'].mean()), inplace=True)\n",
    "df_test['Inventory Turnover'].fillna((df_test['Inventory Turnover'].mean()), inplace=True)\n",
    "df_test['Tracking Error'].fillna((df_test['Tracking Error'].mean()), inplace=True)\n",
    "df_test['Put-Call Ratio'].fillna((df_test['Put-Call Ratio'].mean()), inplace=True)\n",
    "df_test['P/B Ratio'].fillna((df_test['P/B Ratio'].mean()), inplace=True)"
   ]
  },
  {
   "cell_type": "code",
   "execution_count": 11,
   "metadata": {},
   "outputs": [
    {
     "name": "stdout",
     "output_type": "stream",
     "text": [
      "General Index \n",
      " 11270.15    1485\n",
      "55722.00    1464\n",
      "3351.28     1461\n",
      "12765.84    1458\n",
      "38182.08    1453\n",
      "Name: General Index, dtype: int64 \n",
      "\n",
      "Covid Impact (Beta) \n",
      "  0.03    1445\n",
      " 0.11    1431\n",
      " 0.23    1389\n",
      "-0.43    1383\n",
      " 0.78    1359\n",
      "Name: Covid Impact (Beta), dtype: int64 \n",
      "\n",
      "Dollar Exchange Rate \n",
      " 74.9    2931\n",
      "1.0     2912\n",
      "17.7    1463\n",
      "Name: Dollar Exchange Rate, dtype: int64 \n",
      "\n"
     ]
    }
   ],
   "source": [
    "for col in ['General Index','Covid Impact (Beta)','Dollar Exchange Rate']:\n",
    "    print(col,'\\n',df[col].value_counts(),'\\n')"
   ]
  },
  {
   "cell_type": "code",
   "execution_count": 12,
   "metadata": {},
   "outputs": [],
   "source": [
    "df=df.fillna(df['General Index'].value_counts().index[0])\n",
    "df=df.fillna(df['Dollar Exchange Rate'].value_counts().index[0])\n",
    "df=df.fillna(df['Covid Impact (Beta)'].median())\n",
    "\n",
    "df_test=df_test.fillna(df_test['General Index'].value_counts().index[0])\n",
    "df_test=df_test.fillna(df_test['Dollar Exchange Rate'].value_counts().index[0])\n",
    "df_test=df_test.fillna(df_test['Covid Impact (Beta)'].median())"
   ]
  },
  {
   "cell_type": "code",
   "execution_count": 13,
   "metadata": {},
   "outputs": [
    {
     "name": "stdout",
     "output_type": "stream",
     "text": [
      "Stock Index             False\n",
      "Index                   False\n",
      "Industry                False\n",
      "VWAP                    False\n",
      "General Index           False\n",
      "NAV                     False\n",
      "P/E Ratio               False\n",
      "Volumes Traded          False\n",
      "Inventory Turnover      False\n",
      "Covid Impact (Beta)     False\n",
      "Tracking Error          False\n",
      "Dollar Exchange Rate    False\n",
      "Put-Call Ratio          False\n",
      "P/B Ratio               False\n",
      "Stock Price             False\n",
      "dtype: bool\n",
      "Stock Index             False\n",
      "Index                   False\n",
      "Industry                False\n",
      "VWAP                    False\n",
      "General Index           False\n",
      "NAV                     False\n",
      "P/E Ratio               False\n",
      "Volumes Traded          False\n",
      "Inventory Turnover      False\n",
      "Covid Impact (Beta)     False\n",
      "Tracking Error          False\n",
      "Dollar Exchange Rate    False\n",
      "Put-Call Ratio          False\n",
      "P/B Ratio               False\n",
      "dtype: bool\n"
     ]
    }
   ],
   "source": [
    "print(df.isna().any())\n",
    "\n",
    "print(df_test.isna().any())"
   ]
  },
  {
   "cell_type": "code",
   "execution_count": 14,
   "metadata": {},
   "outputs": [
    {
     "data": {
      "text/html": [
       "<div>\n",
       "<style scoped>\n",
       "    .dataframe tbody tr th:only-of-type {\n",
       "        vertical-align: middle;\n",
       "    }\n",
       "\n",
       "    .dataframe tbody tr th {\n",
       "        vertical-align: top;\n",
       "    }\n",
       "\n",
       "    .dataframe thead th {\n",
       "        text-align: right;\n",
       "    }\n",
       "</style>\n",
       "<table border=\"1\" class=\"dataframe\">\n",
       "  <thead>\n",
       "    <tr style=\"text-align: right;\">\n",
       "      <th></th>\n",
       "      <th>Stock Index</th>\n",
       "      <th>Index</th>\n",
       "      <th>Industry</th>\n",
       "      <th>VWAP</th>\n",
       "      <th>General Index</th>\n",
       "      <th>NAV</th>\n",
       "      <th>P/E Ratio</th>\n",
       "      <th>Volumes Traded</th>\n",
       "      <th>Inventory Turnover</th>\n",
       "      <th>Covid Impact (Beta)</th>\n",
       "      <th>Tracking Error</th>\n",
       "      <th>Dollar Exchange Rate</th>\n",
       "      <th>Put-Call Ratio</th>\n",
       "      <th>P/B Ratio</th>\n",
       "    </tr>\n",
       "  </thead>\n",
       "  <tbody>\n",
       "    <tr>\n",
       "      <th>0</th>\n",
       "      <td>AC3235</td>\n",
       "      <td>NSE</td>\n",
       "      <td>Materials</td>\n",
       "      <td>53.30</td>\n",
       "      <td>11270.15</td>\n",
       "      <td>44.59</td>\n",
       "      <td>185.09</td>\n",
       "      <td>12067855.0</td>\n",
       "      <td>2.78</td>\n",
       "      <td>0.03</td>\n",
       "      <td>0.0330</td>\n",
       "      <td>74.9</td>\n",
       "      <td>0.800000</td>\n",
       "      <td>4.66</td>\n",
       "    </tr>\n",
       "    <tr>\n",
       "      <th>1</th>\n",
       "      <td>AC3236</td>\n",
       "      <td>JSE</td>\n",
       "      <td>Energy</td>\n",
       "      <td>749.34</td>\n",
       "      <td>55722.00</td>\n",
       "      <td>74.20</td>\n",
       "      <td>34.01</td>\n",
       "      <td>6172474.0</td>\n",
       "      <td>6.78</td>\n",
       "      <td>0.11</td>\n",
       "      <td>0.0464</td>\n",
       "      <td>17.7</td>\n",
       "      <td>0.860000</td>\n",
       "      <td>6.11</td>\n",
       "    </tr>\n",
       "    <tr>\n",
       "      <th>2</th>\n",
       "      <td>AC3237</td>\n",
       "      <td>S&amp;P 500</td>\n",
       "      <td>Information Tech</td>\n",
       "      <td>567.75</td>\n",
       "      <td>3351.28</td>\n",
       "      <td>88.41</td>\n",
       "      <td>177.40</td>\n",
       "      <td>17472488.0</td>\n",
       "      <td>4.36</td>\n",
       "      <td>0.23</td>\n",
       "      <td>0.0401</td>\n",
       "      <td>1.0</td>\n",
       "      <td>0.930000</td>\n",
       "      <td>4.99</td>\n",
       "    </tr>\n",
       "    <tr>\n",
       "      <th>3</th>\n",
       "      <td>AC3238</td>\n",
       "      <td>NSE</td>\n",
       "      <td>Healthcare</td>\n",
       "      <td>646.78</td>\n",
       "      <td>11270.15</td>\n",
       "      <td>79.36</td>\n",
       "      <td>105.44</td>\n",
       "      <td>15553159.0</td>\n",
       "      <td>2.77</td>\n",
       "      <td>0.78</td>\n",
       "      <td>0.0187</td>\n",
       "      <td>74.9</td>\n",
       "      <td>1.090000</td>\n",
       "      <td>1.26</td>\n",
       "    </tr>\n",
       "    <tr>\n",
       "      <th>4</th>\n",
       "      <td>AC3239</td>\n",
       "      <td>NYSE</td>\n",
       "      <td>Materials</td>\n",
       "      <td>380.33</td>\n",
       "      <td>12765.84</td>\n",
       "      <td>19.90</td>\n",
       "      <td>139.40</td>\n",
       "      <td>12525784.0</td>\n",
       "      <td>5.93</td>\n",
       "      <td>0.03</td>\n",
       "      <td>0.0261</td>\n",
       "      <td>1.0</td>\n",
       "      <td>0.938828</td>\n",
       "      <td>6.18</td>\n",
       "    </tr>\n",
       "  </tbody>\n",
       "</table>\n",
       "</div>"
      ],
      "text/plain": [
       "  Stock Index    Index          Industry    VWAP  General Index    NAV  \\\n",
       "0      AC3235      NSE         Materials   53.30       11270.15  44.59   \n",
       "1      AC3236      JSE            Energy  749.34       55722.00  74.20   \n",
       "2      AC3237  S&P 500  Information Tech  567.75        3351.28  88.41   \n",
       "3      AC3238      NSE        Healthcare  646.78       11270.15  79.36   \n",
       "4      AC3239     NYSE         Materials  380.33       12765.84  19.90   \n",
       "\n",
       "   P/E Ratio  Volumes Traded  Inventory Turnover  Covid Impact (Beta)  \\\n",
       "0     185.09      12067855.0                2.78                 0.03   \n",
       "1      34.01       6172474.0                6.78                 0.11   \n",
       "2     177.40      17472488.0                4.36                 0.23   \n",
       "3     105.44      15553159.0                2.77                 0.78   \n",
       "4     139.40      12525784.0                5.93                 0.03   \n",
       "\n",
       "   Tracking Error  Dollar Exchange Rate  Put-Call Ratio  P/B Ratio  \n",
       "0          0.0330                  74.9        0.800000       4.66  \n",
       "1          0.0464                  17.7        0.860000       6.11  \n",
       "2          0.0401                   1.0        0.930000       4.99  \n",
       "3          0.0187                  74.9        1.090000       1.26  \n",
       "4          0.0261                   1.0        0.938828       6.18  "
      ]
     },
     "execution_count": 14,
     "metadata": {},
     "output_type": "execute_result"
    }
   ],
   "source": [
    "df_test.head()"
   ]
  },
  {
   "cell_type": "code",
   "execution_count": 15,
   "metadata": {},
   "outputs": [
    {
     "name": "stdout",
     "output_type": "stream",
     "text": [
      "['Real Estate' 'Information Tech' 'Materials' 'Healthcare' 'Energy']\n"
     ]
    }
   ],
   "source": [
    "Industry_types=[]\n",
    "Industry_types=df['Industry'].unique()\n",
    "print(Industry_types)"
   ]
  },
  {
   "cell_type": "code",
   "execution_count": 16,
   "metadata": {},
   "outputs": [],
   "source": [
    "one_hot = pd.get_dummies(df['Industry'])\n",
    "one_hot = one_hot.drop(one_hot.columns[[0]], axis=1)\n",
    "# Drop column B as it is now encoded\n",
    "df=df.drop('Industry',axis=1)\n",
    "df=df.join(one_hot)\n",
    "\n",
    "one_hot_test = pd.get_dummies(df_test['Industry'])\n",
    "one_hot_test = one_hot_test.drop(one_hot_test.columns[[0]], axis=1)\n",
    "# Drop column B as it is now encoded\n",
    "df_test=df_test.drop('Industry',axis=1)\n",
    "df_test=df_test.join(one_hot_test)"
   ]
  },
  {
   "cell_type": "code",
   "execution_count": 17,
   "metadata": {},
   "outputs": [],
   "source": [
    "onehot_index=pd.get_dummies(df['Index'])\n",
    "onehot_index = onehot_index.drop(onehot_index.columns[[0]], axis=1)\n",
    "df=df.drop('Index',axis=1)\n",
    "df=df.join(onehot_index)\n",
    "\n",
    "onehot_index_test=pd.get_dummies(df_test['Index'])\n",
    "onehot_index_test = onehot_index_test.drop(onehot_index_test.columns[[0]], axis=1)\n",
    "df_test=df_test.drop('Index',axis=1)\n",
    "df_test=df_test.join(onehot_index_test)"
   ]
  },
  {
   "cell_type": "code",
   "execution_count": 18,
   "metadata": {},
   "outputs": [
    {
     "data": {
      "text/html": [
       "<div>\n",
       "<style scoped>\n",
       "    .dataframe tbody tr th:only-of-type {\n",
       "        vertical-align: middle;\n",
       "    }\n",
       "\n",
       "    .dataframe tbody tr th {\n",
       "        vertical-align: top;\n",
       "    }\n",
       "\n",
       "    .dataframe thead th {\n",
       "        text-align: right;\n",
       "    }\n",
       "</style>\n",
       "<table border=\"1\" class=\"dataframe\">\n",
       "  <thead>\n",
       "    <tr style=\"text-align: right;\">\n",
       "      <th></th>\n",
       "      <th>Stock Index</th>\n",
       "      <th>VWAP</th>\n",
       "      <th>General Index</th>\n",
       "      <th>NAV</th>\n",
       "      <th>P/E Ratio</th>\n",
       "      <th>Volumes Traded</th>\n",
       "      <th>Inventory Turnover</th>\n",
       "      <th>Covid Impact (Beta)</th>\n",
       "      <th>Tracking Error</th>\n",
       "      <th>Dollar Exchange Rate</th>\n",
       "      <th>Put-Call Ratio</th>\n",
       "      <th>P/B Ratio</th>\n",
       "      <th>Healthcare</th>\n",
       "      <th>Information Tech</th>\n",
       "      <th>Materials</th>\n",
       "      <th>Real Estate</th>\n",
       "      <th>JSE</th>\n",
       "      <th>NSE</th>\n",
       "      <th>NYSE</th>\n",
       "      <th>S&amp;P 500</th>\n",
       "    </tr>\n",
       "  </thead>\n",
       "  <tbody>\n",
       "    <tr>\n",
       "      <th>0</th>\n",
       "      <td>AC3235</td>\n",
       "      <td>53.30</td>\n",
       "      <td>11270.15</td>\n",
       "      <td>44.59</td>\n",
       "      <td>185.09</td>\n",
       "      <td>12067855.0</td>\n",
       "      <td>2.78</td>\n",
       "      <td>0.03</td>\n",
       "      <td>0.0330</td>\n",
       "      <td>74.9</td>\n",
       "      <td>0.800000</td>\n",
       "      <td>4.66</td>\n",
       "      <td>0</td>\n",
       "      <td>0</td>\n",
       "      <td>1</td>\n",
       "      <td>0</td>\n",
       "      <td>0</td>\n",
       "      <td>1</td>\n",
       "      <td>0</td>\n",
       "      <td>0</td>\n",
       "    </tr>\n",
       "    <tr>\n",
       "      <th>1</th>\n",
       "      <td>AC3236</td>\n",
       "      <td>749.34</td>\n",
       "      <td>55722.00</td>\n",
       "      <td>74.20</td>\n",
       "      <td>34.01</td>\n",
       "      <td>6172474.0</td>\n",
       "      <td>6.78</td>\n",
       "      <td>0.11</td>\n",
       "      <td>0.0464</td>\n",
       "      <td>17.7</td>\n",
       "      <td>0.860000</td>\n",
       "      <td>6.11</td>\n",
       "      <td>0</td>\n",
       "      <td>0</td>\n",
       "      <td>0</td>\n",
       "      <td>0</td>\n",
       "      <td>1</td>\n",
       "      <td>0</td>\n",
       "      <td>0</td>\n",
       "      <td>0</td>\n",
       "    </tr>\n",
       "    <tr>\n",
       "      <th>2</th>\n",
       "      <td>AC3237</td>\n",
       "      <td>567.75</td>\n",
       "      <td>3351.28</td>\n",
       "      <td>88.41</td>\n",
       "      <td>177.40</td>\n",
       "      <td>17472488.0</td>\n",
       "      <td>4.36</td>\n",
       "      <td>0.23</td>\n",
       "      <td>0.0401</td>\n",
       "      <td>1.0</td>\n",
       "      <td>0.930000</td>\n",
       "      <td>4.99</td>\n",
       "      <td>0</td>\n",
       "      <td>1</td>\n",
       "      <td>0</td>\n",
       "      <td>0</td>\n",
       "      <td>0</td>\n",
       "      <td>0</td>\n",
       "      <td>0</td>\n",
       "      <td>1</td>\n",
       "    </tr>\n",
       "    <tr>\n",
       "      <th>3</th>\n",
       "      <td>AC3238</td>\n",
       "      <td>646.78</td>\n",
       "      <td>11270.15</td>\n",
       "      <td>79.36</td>\n",
       "      <td>105.44</td>\n",
       "      <td>15553159.0</td>\n",
       "      <td>2.77</td>\n",
       "      <td>0.78</td>\n",
       "      <td>0.0187</td>\n",
       "      <td>74.9</td>\n",
       "      <td>1.090000</td>\n",
       "      <td>1.26</td>\n",
       "      <td>1</td>\n",
       "      <td>0</td>\n",
       "      <td>0</td>\n",
       "      <td>0</td>\n",
       "      <td>0</td>\n",
       "      <td>1</td>\n",
       "      <td>0</td>\n",
       "      <td>0</td>\n",
       "    </tr>\n",
       "    <tr>\n",
       "      <th>4</th>\n",
       "      <td>AC3239</td>\n",
       "      <td>380.33</td>\n",
       "      <td>12765.84</td>\n",
       "      <td>19.90</td>\n",
       "      <td>139.40</td>\n",
       "      <td>12525784.0</td>\n",
       "      <td>5.93</td>\n",
       "      <td>0.03</td>\n",
       "      <td>0.0261</td>\n",
       "      <td>1.0</td>\n",
       "      <td>0.938828</td>\n",
       "      <td>6.18</td>\n",
       "      <td>0</td>\n",
       "      <td>0</td>\n",
       "      <td>1</td>\n",
       "      <td>0</td>\n",
       "      <td>0</td>\n",
       "      <td>0</td>\n",
       "      <td>1</td>\n",
       "      <td>0</td>\n",
       "    </tr>\n",
       "  </tbody>\n",
       "</table>\n",
       "</div>"
      ],
      "text/plain": [
       "  Stock Index    VWAP  General Index    NAV  P/E Ratio  Volumes Traded  \\\n",
       "0      AC3235   53.30       11270.15  44.59     185.09      12067855.0   \n",
       "1      AC3236  749.34       55722.00  74.20      34.01       6172474.0   \n",
       "2      AC3237  567.75        3351.28  88.41     177.40      17472488.0   \n",
       "3      AC3238  646.78       11270.15  79.36     105.44      15553159.0   \n",
       "4      AC3239  380.33       12765.84  19.90     139.40      12525784.0   \n",
       "\n",
       "   Inventory Turnover  Covid Impact (Beta)  Tracking Error  \\\n",
       "0                2.78                 0.03          0.0330   \n",
       "1                6.78                 0.11          0.0464   \n",
       "2                4.36                 0.23          0.0401   \n",
       "3                2.77                 0.78          0.0187   \n",
       "4                5.93                 0.03          0.0261   \n",
       "\n",
       "   Dollar Exchange Rate  Put-Call Ratio  P/B Ratio  Healthcare  \\\n",
       "0                  74.9        0.800000       4.66           0   \n",
       "1                  17.7        0.860000       6.11           0   \n",
       "2                   1.0        0.930000       4.99           0   \n",
       "3                  74.9        1.090000       1.26           1   \n",
       "4                   1.0        0.938828       6.18           0   \n",
       "\n",
       "   Information Tech  Materials  Real Estate  JSE  NSE  NYSE  S&P 500  \n",
       "0                 0          1            0    0    1     0        0  \n",
       "1                 0          0            0    1    0     0        0  \n",
       "2                 1          0            0    0    0     0        1  \n",
       "3                 0          0            0    0    1     0        0  \n",
       "4                 0          1            0    0    0     1        0  "
      ]
     },
     "execution_count": 18,
     "metadata": {},
     "output_type": "execute_result"
    }
   ],
   "source": [
    "df_test.head()"
   ]
  },
  {
   "cell_type": "code",
   "execution_count": 19,
   "metadata": {},
   "outputs": [
    {
     "data": {
      "text/plain": [
       "<AxesSubplot:>"
      ]
     },
     "execution_count": 19,
     "metadata": {},
     "output_type": "execute_result"
    },
    {
     "data": {
      "image/png": "[encoded data removed]",
      "text/plain": [
       "<Figure size 1152x360 with 2 Axes>"
      ]
     },
     "metadata": {
      "needs_background": "light"
     },
     "output_type": "display_data"
    }
   ],
   "source": [
    "import seaborn as sns\n",
    "plt.figure(figsize = (16,5))\n",
    "sns.heatmap(df_copy.corr(), cmap=\"YlGnBu\", annot = True)"
   ]
  },
  {
   "cell_type": "code",
   "execution_count": 20,
   "metadata": {},
   "outputs": [
    {
     "name": "stdout",
     "output_type": "stream",
     "text": [
      "linear model intercept: {} -468.73264057046447\n",
      "Coefficients: \n",
      " [ 2.46286914e-02 -2.58815930e-03  1.06299836e+01  5.24091660e+00\n",
      " -2.33746618e-07 -3.95257816e-01  5.83841310e-04  1.97634539e+02\n",
      " -2.57747789e-03 -1.00377362e+01 -8.29355979e-02 -9.36981934e-01\n",
      " -1.23503630e+01 -1.49115888e+01 -4.54434336e+00  6.00036544e+01\n",
      " -6.48454634e+01 -6.31402179e+01 -8.65253566e+01]\n"
     ]
    }
   ],
   "source": [
    "from sklearn.linear_model import LinearRegression\n",
    "\n",
    "y=np.array(df['Stock Price'])\n",
    "X=np.array(df.drop(['Stock Index','Stock Price'],axis=1))\n",
    "\n",
    "from sklearn.model_selection import train_test_split \n",
    "X_train, X_test, y_train, y_test = train_test_split(X, y, test_size=0.4, \n",
    "                                                    random_state=1) \n",
    "\n",
    "# create linear regression object \n",
    "reg =LinearRegression(n_jobs=-1) \n",
    "  \n",
    "# train the model using the training sets \n",
    "reg.fit(X_train, y_train) \n",
    "  \n",
    "print('linear model intercept: {}',format(reg.intercept_))\n",
    "\n",
    "# regression coefficients \n",
    "print('Coefficients: \\n', reg.coef_) \n"
   ]
  },
  {
   "cell_type": "code",
   "execution_count": 21,
   "metadata": {},
   "outputs": [
    {
     "name": "stdout",
     "output_type": "stream",
     "text": [
      "Variance score: 0.8694263078296913\n"
     ]
    }
   ],
   "source": [
    "print('Variance score: {}'.format(reg.score(X_test, y_test))) "
   ]
  },
  {
   "cell_type": "code",
   "execution_count": 22,
   "metadata": {},
   "outputs": [
    {
     "name": "stdout",
     "output_type": "stream",
     "text": [
      "R-squared score (training): 0.860\n",
      "R-squared score (test): 0.869\n"
     ]
    }
   ],
   "source": [
    "print('R-squared score (training): {:.3f}'\n",
    "     .format(reg.score(X_train, y_train)))\n",
    "print('R-squared score (test): {:.3f}'\n",
    "     .format(reg.score(X_test, y_test)))"
   ]
  },
  {
   "cell_type": "code",
   "execution_count": 23,
   "metadata": {},
   "outputs": [
    {
     "name": "stdout",
     "output_type": "stream",
     "text": [
      "[[3.184200e+02 3.818208e+04 1.251000e+01 ... 0.000000e+00 0.000000e+00\n",
      "  0.000000e+00]\n",
      " [3.538400e+02 3.818208e+04 6.098000e+01 ... 0.000000e+00 0.000000e+00\n",
      "  0.000000e+00]\n",
      " [3.911200e+02 1.127015e+04 8.539000e+01 ... 1.000000e+00 0.000000e+00\n",
      "  0.000000e+00]\n",
      " ...\n",
      " [4.087700e+02 5.572200e+04 6.169000e+01 ... 0.000000e+00 0.000000e+00\n",
      "  0.000000e+00]\n",
      " [3.078900e+02 1.276584e+04 5.912000e+01 ... 0.000000e+00 1.000000e+00\n",
      "  0.000000e+00]\n",
      " [4.812600e+02 1.127015e+04 7.434000e+01 ... 1.000000e+00 0.000000e+00\n",
      "  0.000000e+00]]\n"
     ]
    }
   ],
   "source": [
    "x_index=np.array(df_test['Stock Index'])\n",
    "X_test_data=np.array(df_test.drop(['Stock Index'],axis=1))\n",
    "print(X_test)"
   ]
  },
  {
   "cell_type": "code",
   "execution_count": 24,
   "metadata": {},
   "outputs": [],
   "source": [
    "y_pred_test=reg.predict(X_test_data)"
   ]
  },
  {
   "cell_type": "code",
   "execution_count": 25,
   "metadata": {},
   "outputs": [
    {
     "data": {
      "text/plain": [
       "3331"
      ]
     },
     "execution_count": 25,
     "metadata": {},
     "output_type": "execute_result"
    }
   ],
   "source": [
    "y_pred_test.size"
   ]
  },
  {
   "cell_type": "code",
   "execution_count": 26,
   "metadata": {},
   "outputs": [
    {
     "data": {
      "text/plain": [
       "3331"
      ]
     },
     "execution_count": 26,
     "metadata": {},
     "output_type": "execute_result"
    }
   ],
   "source": [
    "x_index.size"
   ]
  },
  {
   "cell_type": "code",
   "execution_count": 27,
   "metadata": {},
   "outputs": [],
   "source": [
    "df_result = pd.DataFrame({'Stock Index':x_index, 'Stock Price':y_pred_test})"
   ]
  },
  {
   "cell_type": "code",
   "execution_count": 28,
   "metadata": {},
   "outputs": [
    {
     "data": {
      "text/html": [
       "<div>\n",
       "<style scoped>\n",
       "    .dataframe tbody tr th:only-of-type {\n",
       "        vertical-align: middle;\n",
       "    }\n",
       "\n",
       "    .dataframe tbody tr th {\n",
       "        vertical-align: top;\n",
       "    }\n",
       "\n",
       "    .dataframe thead th {\n",
       "        text-align: right;\n",
       "    }\n",
       "</style>\n",
       "<table border=\"1\" class=\"dataframe\">\n",
       "  <thead>\n",
       "    <tr style=\"text-align: right;\">\n",
       "      <th></th>\n",
       "      <th>Stock Index</th>\n",
       "      <th>Stock Price</th>\n",
       "    </tr>\n",
       "  </thead>\n",
       "  <tbody>\n",
       "    <tr>\n",
       "      <th>0</th>\n",
       "      <td>AC3235</td>\n",
       "      <td>861.678892</td>\n",
       "    </tr>\n",
       "    <tr>\n",
       "      <th>1</th>\n",
       "      <td>AC3236</td>\n",
       "      <td>428.360072</td>\n",
       "    </tr>\n",
       "    <tr>\n",
       "      <th>2</th>\n",
       "      <td>AC3237</td>\n",
       "      <td>1299.602685</td>\n",
       "    </tr>\n",
       "    <tr>\n",
       "      <th>3</th>\n",
       "      <td>AC3238</td>\n",
       "      <td>836.170232</td>\n",
       "    </tr>\n",
       "    <tr>\n",
       "      <th>4</th>\n",
       "      <td>AC3239</td>\n",
       "      <td>361.610712</td>\n",
       "    </tr>\n",
       "  </tbody>\n",
       "</table>\n",
       "</div>"
      ],
      "text/plain": [
       "  Stock Index  Stock Price\n",
       "0      AC3235   861.678892\n",
       "1      AC3236   428.360072\n",
       "2      AC3237  1299.602685\n",
       "3      AC3238   836.170232\n",
       "4      AC3239   361.610712"
      ]
     },
     "execution_count": 28,
     "metadata": {},
     "output_type": "execute_result"
    }
   ],
   "source": [
    "df_result.head()"
   ]
  },
  {
   "cell_type": "code",
   "execution_count": 29,
   "metadata": {},
   "outputs": [],
   "source": [
    "df_result.to_excel(\"flipr_task1.xlsx\")"
   ]
  },
  {
   "cell_type": "markdown",
   "metadata": {},
   "source": [
    "### Task 2"
   ]
  },
  {
   "cell_type": "code",
   "execution_count": 30,
   "metadata": {},
   "outputs": [],
   "source": [
    "xls = pd.ExcelFile('Test_dataset.xlsx')\n",
    "df2=pd.read_excel(xls,'Put-Call_TS')"
   ]
  },
  {
   "cell_type": "code",
   "execution_count": 31,
   "metadata": {},
   "outputs": [
    {
     "data": {
      "text/html": [
       "<div>\n",
       "<style scoped>\n",
       "    .dataframe tbody tr th:only-of-type {\n",
       "        vertical-align: middle;\n",
       "    }\n",
       "\n",
       "    .dataframe tbody tr th {\n",
       "        vertical-align: top;\n",
       "    }\n",
       "\n",
       "    .dataframe thead th {\n",
       "        text-align: right;\n",
       "    }\n",
       "</style>\n",
       "<table border=\"1\" class=\"dataframe\">\n",
       "  <thead>\n",
       "    <tr style=\"text-align: right;\">\n",
       "      <th></th>\n",
       "      <th>Stock Index</th>\n",
       "      <th>Put-Call Ratio</th>\n",
       "      <th>Unnamed: 2</th>\n",
       "      <th>Unnamed: 3</th>\n",
       "      <th>Unnamed: 4</th>\n",
       "      <th>Unnamed: 5</th>\n",
       "      <th>Unnamed: 6</th>\n",
       "    </tr>\n",
       "  </thead>\n",
       "  <tbody>\n",
       "    <tr>\n",
       "      <th>0</th>\n",
       "      <td>NaN</td>\n",
       "      <td>2020-08-10 00:00:00</td>\n",
       "      <td>2020-08-11 00:00:00</td>\n",
       "      <td>2020-08-12 00:00:00</td>\n",
       "      <td>2020-08-13 00:00:00</td>\n",
       "      <td>2020-08-14 00:00:00</td>\n",
       "      <td>2020-08-15 00:00:00</td>\n",
       "    </tr>\n",
       "    <tr>\n",
       "      <th>1</th>\n",
       "      <td>AC3235</td>\n",
       "      <td>0.8</td>\n",
       "      <td>0.66</td>\n",
       "      <td>0.7724</td>\n",
       "      <td>0.983224</td>\n",
       "      <td>0.901211</td>\n",
       "      <td>0.898368</td>\n",
       "    </tr>\n",
       "    <tr>\n",
       "      <th>2</th>\n",
       "      <td>AC3236</td>\n",
       "      <td>0.86</td>\n",
       "      <td>0.732</td>\n",
       "      <td>0.85448</td>\n",
       "      <td>1.08664</td>\n",
       "      <td>1.01704</td>\n",
       "      <td>1.02926</td>\n",
       "    </tr>\n",
       "    <tr>\n",
       "      <th>3</th>\n",
       "      <td>AC3237</td>\n",
       "      <td>0.93</td>\n",
       "      <td>0.816</td>\n",
       "      <td>0.95024</td>\n",
       "      <td>1.2073</td>\n",
       "      <td>NaN</td>\n",
       "      <td>1.18196</td>\n",
       "    </tr>\n",
       "    <tr>\n",
       "      <th>4</th>\n",
       "      <td>AC3238</td>\n",
       "      <td>1.09</td>\n",
       "      <td>1.008</td>\n",
       "      <td>1.16912</td>\n",
       "      <td>1.48309</td>\n",
       "      <td>1.46106</td>\n",
       "      <td>1.531</td>\n",
       "    </tr>\n",
       "  </tbody>\n",
       "</table>\n",
       "</div>"
      ],
      "text/plain": [
       "  Stock Index       Put-Call Ratio           Unnamed: 2           Unnamed: 3  \\\n",
       "0         NaN  2020-08-10 00:00:00  2020-08-11 00:00:00  2020-08-12 00:00:00   \n",
       "1      AC3235                  0.8                 0.66               0.7724   \n",
       "2      AC3236                 0.86                0.732              0.85448   \n",
       "3      AC3237                 0.93                0.816              0.95024   \n",
       "4      AC3238                 1.09                1.008              1.16912   \n",
       "\n",
       "            Unnamed: 4           Unnamed: 5           Unnamed: 6  \n",
       "0  2020-08-13 00:00:00  2020-08-14 00:00:00  2020-08-15 00:00:00  \n",
       "1             0.983224             0.901211             0.898368  \n",
       "2              1.08664              1.01704              1.02926  \n",
       "3               1.2073                  NaN              1.18196  \n",
       "4              1.48309              1.46106                1.531  "
      ]
     },
     "execution_count": 31,
     "metadata": {},
     "output_type": "execute_result"
    }
   ],
   "source": [
    "df2.head()"
   ]
  },
  {
   "cell_type": "code",
   "execution_count": 32,
   "metadata": {},
   "outputs": [],
   "source": [
    "new_header = df2.iloc[0] #grab the first row for the header\n",
    "df2 = df2[1:] #take the data less the header row\n",
    "df2.columns = new_header #set the header row as the df header"
   ]
  },
  {
   "cell_type": "code",
   "execution_count": 33,
   "metadata": {},
   "outputs": [
    {
     "data": {
      "text/html": [
       "<div>\n",
       "<style scoped>\n",
       "    .dataframe tbody tr th:only-of-type {\n",
       "        vertical-align: middle;\n",
       "    }\n",
       "\n",
       "    .dataframe tbody tr th {\n",
       "        vertical-align: top;\n",
       "    }\n",
       "\n",
       "    .dataframe thead th {\n",
       "        text-align: right;\n",
       "    }\n",
       "</style>\n",
       "<table border=\"1\" class=\"dataframe\">\n",
       "  <thead>\n",
       "    <tr style=\"text-align: right;\">\n",
       "      <th></th>\n",
       "      <th>NaT</th>\n",
       "      <th>2020-08-10</th>\n",
       "      <th>2020-08-11</th>\n",
       "      <th>2020-08-12</th>\n",
       "      <th>2020-08-13</th>\n",
       "      <th>2020-08-14</th>\n",
       "      <th>2020-08-15</th>\n",
       "    </tr>\n",
       "  </thead>\n",
       "  <tbody>\n",
       "    <tr>\n",
       "      <th>1</th>\n",
       "      <td>AC3235</td>\n",
       "      <td>0.8</td>\n",
       "      <td>0.66</td>\n",
       "      <td>0.7724</td>\n",
       "      <td>0.983224</td>\n",
       "      <td>0.901211</td>\n",
       "      <td>0.898368</td>\n",
       "    </tr>\n",
       "    <tr>\n",
       "      <th>2</th>\n",
       "      <td>AC3236</td>\n",
       "      <td>0.86</td>\n",
       "      <td>0.732</td>\n",
       "      <td>0.85448</td>\n",
       "      <td>1.08664</td>\n",
       "      <td>1.01704</td>\n",
       "      <td>1.02926</td>\n",
       "    </tr>\n",
       "    <tr>\n",
       "      <th>3</th>\n",
       "      <td>AC3237</td>\n",
       "      <td>0.93</td>\n",
       "      <td>0.816</td>\n",
       "      <td>0.95024</td>\n",
       "      <td>1.2073</td>\n",
       "      <td>NaN</td>\n",
       "      <td>1.18196</td>\n",
       "    </tr>\n",
       "    <tr>\n",
       "      <th>4</th>\n",
       "      <td>AC3238</td>\n",
       "      <td>1.09</td>\n",
       "      <td>1.008</td>\n",
       "      <td>1.16912</td>\n",
       "      <td>1.48309</td>\n",
       "      <td>1.46106</td>\n",
       "      <td>1.531</td>\n",
       "    </tr>\n",
       "    <tr>\n",
       "      <th>5</th>\n",
       "      <td>AC3239</td>\n",
       "      <td>NaN</td>\n",
       "      <td>1.104</td>\n",
       "      <td>1.27856</td>\n",
       "      <td>1.62099</td>\n",
       "      <td>1.6155</td>\n",
       "      <td>1.70552</td>\n",
       "    </tr>\n",
       "  </tbody>\n",
       "</table>\n",
       "</div>"
      ],
      "text/plain": [
       "0     NaT 2020-08-10 2020-08-11 2020-08-12 2020-08-13 2020-08-14 2020-08-15\n",
       "1  AC3235        0.8       0.66     0.7724   0.983224   0.901211   0.898368\n",
       "2  AC3236       0.86      0.732    0.85448    1.08664    1.01704    1.02926\n",
       "3  AC3237       0.93      0.816    0.95024     1.2073        NaN    1.18196\n",
       "4  AC3238       1.09      1.008    1.16912    1.48309    1.46106      1.531\n",
       "5  AC3239        NaN      1.104    1.27856    1.62099     1.6155    1.70552"
      ]
     },
     "execution_count": 33,
     "metadata": {},
     "output_type": "execute_result"
    }
   ],
   "source": [
    "df2.head()"
   ]
  },
  {
   "cell_type": "code",
   "execution_count": 34,
   "metadata": {},
   "outputs": [],
   "source": [
    "df2.columns = ['Stock Index'] + df2.columns[1:].tolist()"
   ]
  },
  {
   "cell_type": "code",
   "execution_count": 35,
   "metadata": {},
   "outputs": [
    {
     "data": {
      "text/html": [
       "<div>\n",
       "<style scoped>\n",
       "    .dataframe tbody tr th:only-of-type {\n",
       "        vertical-align: middle;\n",
       "    }\n",
       "\n",
       "    .dataframe tbody tr th {\n",
       "        vertical-align: top;\n",
       "    }\n",
       "\n",
       "    .dataframe thead th {\n",
       "        text-align: right;\n",
       "    }\n",
       "</style>\n",
       "<table border=\"1\" class=\"dataframe\">\n",
       "  <thead>\n",
       "    <tr style=\"text-align: right;\">\n",
       "      <th></th>\n",
       "      <th>Stock Index</th>\n",
       "      <th>2020-08-10 00:00:00</th>\n",
       "      <th>2020-08-11 00:00:00</th>\n",
       "      <th>2020-08-12 00:00:00</th>\n",
       "      <th>2020-08-13 00:00:00</th>\n",
       "      <th>2020-08-14 00:00:00</th>\n",
       "      <th>2020-08-15 00:00:00</th>\n",
       "    </tr>\n",
       "  </thead>\n",
       "  <tbody>\n",
       "    <tr>\n",
       "      <th>1</th>\n",
       "      <td>AC3235</td>\n",
       "      <td>0.8</td>\n",
       "      <td>0.66</td>\n",
       "      <td>0.7724</td>\n",
       "      <td>0.983224</td>\n",
       "      <td>0.901211</td>\n",
       "      <td>0.898368</td>\n",
       "    </tr>\n",
       "    <tr>\n",
       "      <th>2</th>\n",
       "      <td>AC3236</td>\n",
       "      <td>0.86</td>\n",
       "      <td>0.732</td>\n",
       "      <td>0.85448</td>\n",
       "      <td>1.08664</td>\n",
       "      <td>1.01704</td>\n",
       "      <td>1.02926</td>\n",
       "    </tr>\n",
       "    <tr>\n",
       "      <th>3</th>\n",
       "      <td>AC3237</td>\n",
       "      <td>0.93</td>\n",
       "      <td>0.816</td>\n",
       "      <td>0.95024</td>\n",
       "      <td>1.2073</td>\n",
       "      <td>NaN</td>\n",
       "      <td>1.18196</td>\n",
       "    </tr>\n",
       "    <tr>\n",
       "      <th>4</th>\n",
       "      <td>AC3238</td>\n",
       "      <td>1.09</td>\n",
       "      <td>1.008</td>\n",
       "      <td>1.16912</td>\n",
       "      <td>1.48309</td>\n",
       "      <td>1.46106</td>\n",
       "      <td>1.531</td>\n",
       "    </tr>\n",
       "    <tr>\n",
       "      <th>5</th>\n",
       "      <td>AC3239</td>\n",
       "      <td>NaN</td>\n",
       "      <td>1.104</td>\n",
       "      <td>1.27856</td>\n",
       "      <td>1.62099</td>\n",
       "      <td>1.6155</td>\n",
       "      <td>1.70552</td>\n",
       "    </tr>\n",
       "  </tbody>\n",
       "</table>\n",
       "</div>"
      ],
      "text/plain": [
       "  Stock Index 2020-08-10 00:00:00 2020-08-11 00:00:00 2020-08-12 00:00:00  \\\n",
       "1      AC3235                 0.8                0.66              0.7724   \n",
       "2      AC3236                0.86               0.732             0.85448   \n",
       "3      AC3237                0.93               0.816             0.95024   \n",
       "4      AC3238                1.09               1.008             1.16912   \n",
       "5      AC3239                 NaN               1.104             1.27856   \n",
       "\n",
       "  2020-08-13 00:00:00 2020-08-14 00:00:00 2020-08-15 00:00:00  \n",
       "1            0.983224            0.901211            0.898368  \n",
       "2             1.08664             1.01704             1.02926  \n",
       "3              1.2073                 NaN             1.18196  \n",
       "4             1.48309             1.46106               1.531  \n",
       "5             1.62099              1.6155             1.70552  "
      ]
     },
     "execution_count": 35,
     "metadata": {},
     "output_type": "execute_result"
    }
   ],
   "source": [
    "df2.head()"
   ]
  },
  {
   "cell_type": "code",
   "execution_count": 36,
   "metadata": {},
   "outputs": [
    {
     "name": "stdout",
     "output_type": "stream",
     "text": [
      "<class 'pandas.core.frame.DataFrame'>\n",
      "RangeIndex: 3331 entries, 1 to 3331\n",
      "Data columns (total 7 columns):\n",
      " #   Column               Non-Null Count  Dtype \n",
      "---  ------               --------------  ----- \n",
      " 0   Stock Index          3331 non-null   object\n",
      " 1   2020-08-10 00:00:00  2902 non-null   object\n",
      " 2   2020-08-11 00:00:00  3329 non-null   object\n",
      " 3   2020-08-12 00:00:00  3274 non-null   object\n",
      " 4   2020-08-13 00:00:00  3317 non-null   object\n",
      " 5   2020-08-14 00:00:00  3226 non-null   object\n",
      " 6   2020-08-15 00:00:00  3092 non-null   object\n",
      "dtypes: object(7)\n",
      "memory usage: 182.3+ KB\n"
     ]
    }
   ],
   "source": [
    "df2.info()"
   ]
  },
  {
   "cell_type": "code",
   "execution_count": 37,
   "metadata": {},
   "outputs": [],
   "source": [
    "df2 = df2.set_index(['Stock Index'])"
   ]
  },
  {
   "cell_type": "code",
   "execution_count": 38,
   "metadata": {},
   "outputs": [
    {
     "data": {
      "text/html": [
       "<div>\n",
       "<style scoped>\n",
       "    .dataframe tbody tr th:only-of-type {\n",
       "        vertical-align: middle;\n",
       "    }\n",
       "\n",
       "    .dataframe tbody tr th {\n",
       "        vertical-align: top;\n",
       "    }\n",
       "\n",
       "    .dataframe thead th {\n",
       "        text-align: right;\n",
       "    }\n",
       "</style>\n",
       "<table border=\"1\" class=\"dataframe\">\n",
       "  <thead>\n",
       "    <tr style=\"text-align: right;\">\n",
       "      <th></th>\n",
       "      <th>2020-08-10 00:00:00</th>\n",
       "      <th>2020-08-11 00:00:00</th>\n",
       "      <th>2020-08-12 00:00:00</th>\n",
       "      <th>2020-08-13 00:00:00</th>\n",
       "      <th>2020-08-14 00:00:00</th>\n",
       "      <th>2020-08-15 00:00:00</th>\n",
       "    </tr>\n",
       "    <tr>\n",
       "      <th>Stock Index</th>\n",
       "      <th></th>\n",
       "      <th></th>\n",
       "      <th></th>\n",
       "      <th></th>\n",
       "      <th></th>\n",
       "      <th></th>\n",
       "    </tr>\n",
       "  </thead>\n",
       "  <tbody>\n",
       "    <tr>\n",
       "      <th>AC3235</th>\n",
       "      <td>0.8</td>\n",
       "      <td>0.66</td>\n",
       "      <td>0.7724</td>\n",
       "      <td>0.983224</td>\n",
       "      <td>0.901211</td>\n",
       "      <td>0.898368</td>\n",
       "    </tr>\n",
       "    <tr>\n",
       "      <th>AC3236</th>\n",
       "      <td>0.86</td>\n",
       "      <td>0.732</td>\n",
       "      <td>0.85448</td>\n",
       "      <td>1.08664</td>\n",
       "      <td>1.01704</td>\n",
       "      <td>1.02926</td>\n",
       "    </tr>\n",
       "    <tr>\n",
       "      <th>AC3237</th>\n",
       "      <td>0.93</td>\n",
       "      <td>0.816</td>\n",
       "      <td>0.95024</td>\n",
       "      <td>1.2073</td>\n",
       "      <td>NaN</td>\n",
       "      <td>1.18196</td>\n",
       "    </tr>\n",
       "    <tr>\n",
       "      <th>AC3238</th>\n",
       "      <td>1.09</td>\n",
       "      <td>1.008</td>\n",
       "      <td>1.16912</td>\n",
       "      <td>1.48309</td>\n",
       "      <td>1.46106</td>\n",
       "      <td>1.531</td>\n",
       "    </tr>\n",
       "    <tr>\n",
       "      <th>AC3239</th>\n",
       "      <td>NaN</td>\n",
       "      <td>1.104</td>\n",
       "      <td>1.27856</td>\n",
       "      <td>1.62099</td>\n",
       "      <td>1.6155</td>\n",
       "      <td>1.70552</td>\n",
       "    </tr>\n",
       "  </tbody>\n",
       "</table>\n",
       "</div>"
      ],
      "text/plain": [
       "            2020-08-10 00:00:00 2020-08-11 00:00:00 2020-08-12 00:00:00  \\\n",
       "Stock Index                                                               \n",
       "AC3235                      0.8                0.66              0.7724   \n",
       "AC3236                     0.86               0.732             0.85448   \n",
       "AC3237                     0.93               0.816             0.95024   \n",
       "AC3238                     1.09               1.008             1.16912   \n",
       "AC3239                      NaN               1.104             1.27856   \n",
       "\n",
       "            2020-08-13 00:00:00 2020-08-14 00:00:00 2020-08-15 00:00:00  \n",
       "Stock Index                                                              \n",
       "AC3235                 0.983224            0.901211            0.898368  \n",
       "AC3236                  1.08664             1.01704             1.02926  \n",
       "AC3237                   1.2073                 NaN             1.18196  \n",
       "AC3238                  1.48309             1.46106               1.531  \n",
       "AC3239                  1.62099              1.6155             1.70552  "
      ]
     },
     "execution_count": 38,
     "metadata": {},
     "output_type": "execute_result"
    }
   ],
   "source": [
    "df2.head()"
   ]
  },
  {
   "cell_type": "code",
   "execution_count": 39,
   "metadata": {},
   "outputs": [
    {
     "data": {
      "text/plain": [
       "<AxesSubplot:>"
      ]
     },
     "execution_count": 39,
     "metadata": {},
     "output_type": "execute_result"
    },
    {
     "data": {
      "image/png": "[encoded data removed]",
      "text/plain": [
       "<Figure size 432x288 with 1 Axes>"
      ]
     },
     "metadata": {
      "needs_background": "light"
     },
     "output_type": "display_data"
    }
   ],
   "source": [
    "df2.iloc[:1].T.plot()"
   ]
  },
  {
   "cell_type": "code",
   "execution_count": 40,
   "metadata": {},
   "outputs": [],
   "source": [
    "timeSeries = df2.iloc[:1,:].T"
   ]
  },
  {
   "cell_type": "code",
   "execution_count": 41,
   "metadata": {},
   "outputs": [
    {
     "data": {
      "text/html": [
       "<div>\n",
       "<style scoped>\n",
       "    .dataframe tbody tr th:only-of-type {\n",
       "        vertical-align: middle;\n",
       "    }\n",
       "\n",
       "    .dataframe tbody tr th {\n",
       "        vertical-align: top;\n",
       "    }\n",
       "\n",
       "    .dataframe thead th {\n",
       "        text-align: right;\n",
       "    }\n",
       "</style>\n",
       "<table border=\"1\" class=\"dataframe\">\n",
       "  <thead>\n",
       "    <tr style=\"text-align: right;\">\n",
       "      <th>Stock Index</th>\n",
       "      <th>AC3235</th>\n",
       "    </tr>\n",
       "  </thead>\n",
       "  <tbody>\n",
       "    <tr>\n",
       "      <th>2020-08-10 00:00:00</th>\n",
       "      <td>0.8</td>\n",
       "    </tr>\n",
       "    <tr>\n",
       "      <th>2020-08-11 00:00:00</th>\n",
       "      <td>0.66</td>\n",
       "    </tr>\n",
       "    <tr>\n",
       "      <th>2020-08-12 00:00:00</th>\n",
       "      <td>0.7724</td>\n",
       "    </tr>\n",
       "    <tr>\n",
       "      <th>2020-08-13 00:00:00</th>\n",
       "      <td>0.983224</td>\n",
       "    </tr>\n",
       "    <tr>\n",
       "      <th>2020-08-14 00:00:00</th>\n",
       "      <td>0.901211</td>\n",
       "    </tr>\n",
       "    <tr>\n",
       "      <th>2020-08-15 00:00:00</th>\n",
       "      <td>0.898368</td>\n",
       "    </tr>\n",
       "  </tbody>\n",
       "</table>\n",
       "</div>"
      ],
      "text/plain": [
       "Stock Index            AC3235\n",
       "2020-08-10 00:00:00       0.8\n",
       "2020-08-11 00:00:00      0.66\n",
       "2020-08-12 00:00:00    0.7724\n",
       "2020-08-13 00:00:00  0.983224\n",
       "2020-08-14 00:00:00  0.901211\n",
       "2020-08-15 00:00:00  0.898368"
      ]
     },
     "execution_count": 41,
     "metadata": {},
     "output_type": "execute_result"
    }
   ],
   "source": [
    "timeSeries"
   ]
  },
  {
   "cell_type": "code",
   "execution_count": 46,
   "metadata": {},
   "outputs": [
    {
     "data": {
      "image/png": "[encoded data removed]",
      "text/plain": [
       "<Figure size 1584x720 with 1 Axes>"
      ]
     },
     "metadata": {
      "needs_background": "light"
     },
     "output_type": "display_data"
    },
    {
     "name": "stdout",
     "output_type": "stream",
     "text": [
      "Test statistic:  -1.1512465844745146\n",
      "p-value:  0.6942090457693091\n",
      "Critical Values: {'1%': -6.045114, '5%': -3.9292800000000003, '10%': -2.98681}\n"
     ]
    }
   ],
   "source": [
    "from statsmodels.tsa.stattools import adfuller\n",
    "# check_adfuller\n",
    "def check_adfuller(ts):\n",
    "    # Dickey-Fuller test\n",
    "    result = adfuller(ts, autolag='AIC')\n",
    "    print('Test statistic: ' , result[0])\n",
    "    print('p-value: '  ,result[1])\n",
    "    print('Critical Values:' ,result[4])\n",
    "# check_mean_std\n",
    "def check_mean_std(ts):\n",
    "    #Rolling statistics\n",
    "    #rolmean = pd.rolling_mean(ts, window=6)\n",
    "    rolmean = ts.rolling(6).mean()\n",
    "    rolstd = ts.rolling(6).std()\n",
    "    #rolstd = pd.rolling_std(ts, window=6)\n",
    "    plt.figure(figsize=(22,10))   \n",
    "    orig = plt.plot(ts, color='red',label='Original')\n",
    "    mean = plt.plot(rolmean, color='black', label='Rolling Mean')\n",
    "    std = plt.plot(rolstd, color='green', label = 'Rolling Std')\n",
    "    plt.xlabel(\"Date\")\n",
    "    plt.ylabel(\"Mean Temperature\")\n",
    "    plt.title('Rolling Mean & Standard Deviation')\n",
    "    plt.legend()\n",
    "    plt.show()\n",
    "    \n",
    "# check stationary: mean, variance(std)and adfuller test\n",
    "check_mean_std(timeSeries)\n",
    "check_adfuller(timeSeries.AC3235)\n"
   ]
  },
  {
   "cell_type": "code",
   "execution_count": null,
   "metadata": {},
   "outputs": [],
   "source": []
  },
  {
   "cell_type": "code",
   "execution_count": null,
   "metadata": {},
   "outputs": [],
   "source": []
  }
 ],
 "metadata": {
  "kernelspec": {
   "display_name": "Python 3",
   "language": "python",
   "name": "python3"
  },
  "language_info": {
   "codemirror_mode": {
    "name": "ipython",
    "version": 3
   },
   "file_extension": ".py",
   "mimetype": "text/x-python",
   "name": "python",
   "nbconvert_exporter": "python",
   "pygments_lexer": "ipython3",
   "version": "3.7.8"
  }
 },
 "nbformat": 4,
 "nbformat_minor": 4
}
